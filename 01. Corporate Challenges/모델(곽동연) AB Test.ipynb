{
 "cells": [
  {
   "cell_type": "markdown",
   "id": "a33d9fd5",
   "metadata": {},
   "source": [
    "### 광고 모델을 소재로 활용했을 때, 소재 효율은 더 증가할까?\n",
    "모바일 앱을 런칭하면서, 광고 모델을 섭외해 대대적인 오픈 이벤트 캠페인을 기획하게 되었다.  \n",
    "모델 활용 범위에 광고 소재가 포함되어, 각종 소재에 모델을 넣어 소재를 제작하였다.  \n",
    "이후 퍼포먼스 마케팅 캠페인을 진행하면서, 소재에 있어 해당 모델의 효과를 확인하고자 하였다.  \n",
    "테스트는 A/B Test로 진행하며, Paired T-test를 활용해 모델 활용 유무에 대한 클릭률, 전환율의 차이를 검정하고자 한다.\n"
   ]
  },
  {
   "cell_type": "code",
   "execution_count": 1,
   "id": "2196de45",
   "metadata": {},
   "outputs": [
    {
     "data": {
      "text/html": [
       "<style>.container { width:70% !important; }</style>"
      ],
      "text/plain": [
       "<IPython.core.display.HTML object>"
      ]
     },
     "metadata": {},
     "output_type": "display_data"
    }
   ],
   "source": [
    "from IPython.core.display import display, HTML\n",
    "display(HTML(\"<style>.container { width:70% !important; }</style>\"))"
   ]
  },
  {
   "cell_type": "code",
   "execution_count": 2,
   "id": "11be2d30",
   "metadata": {},
   "outputs": [],
   "source": [
    "import pandas as pd\n",
    "import numpy as np\n",
    "import seaborn as sns\n",
    "import matplotlib as mpl\n",
    "import matplotlib.pyplot as plt\n",
    "\n",
    "plt.rc('font', family='NanumGothic')\n",
    "mpl.rcParams['axes.unicode_minus'] = False\n",
    "%matplotlib inline"
   ]
  },
  {
   "cell_type": "code",
   "execution_count": 3,
   "id": "9b887904",
   "metadata": {
    "scrolled": true
   },
   "outputs": [
    {
     "name": "stdout",
     "output_type": "stream",
     "text": [
      "<class 'pandas.core.frame.DataFrame'>\n",
      "RangeIndex: 2410 entries, 0 to 2409\n",
      "Data columns (total 8 columns):\n",
      " #   Column  Non-Null Count  Dtype         \n",
      "---  ------  --------------  -----         \n",
      " 0   날짜      2410 non-null   datetime64[ns]\n",
      " 1   매체      2410 non-null   object        \n",
      " 2   그룹      2410 non-null   object        \n",
      " 3   소재 구분   2410 non-null   int64         \n",
      " 4   소재명     2410 non-null   object        \n",
      " 5   노출      2410 non-null   int64         \n",
      " 6   클릭      2410 non-null   int64         \n",
      " 7   앱 설치    2410 non-null   int64         \n",
      "dtypes: datetime64[ns](1), int64(4), object(3)\n",
      "memory usage: 150.8+ KB\n"
     ]
    },
    {
     "data": {
      "text/plain": [
       "None"
      ]
     },
     "metadata": {},
     "output_type": "display_data"
    },
    {
     "data": {
      "text/html": [
       "<div>\n",
       "<style scoped>\n",
       "    .dataframe tbody tr th:only-of-type {\n",
       "        vertical-align: middle;\n",
       "    }\n",
       "\n",
       "    .dataframe tbody tr th {\n",
       "        vertical-align: top;\n",
       "    }\n",
       "\n",
       "    .dataframe thead th {\n",
       "        text-align: right;\n",
       "    }\n",
       "</style>\n",
       "<table border=\"1\" class=\"dataframe\">\n",
       "  <thead>\n",
       "    <tr style=\"text-align: right;\">\n",
       "      <th></th>\n",
       "      <th>날짜</th>\n",
       "      <th>매체</th>\n",
       "      <th>그룹</th>\n",
       "      <th>소재 구분</th>\n",
       "      <th>소재명</th>\n",
       "      <th>노출</th>\n",
       "      <th>클릭</th>\n",
       "      <th>앱 설치</th>\n",
       "    </tr>\n",
       "  </thead>\n",
       "  <tbody>\n",
       "    <tr>\n",
       "      <th>0</th>\n",
       "      <td>2022-10-13</td>\n",
       "      <td>카카오</td>\n",
       "      <td>BR</td>\n",
       "      <td>1</td>\n",
       "      <td>DMKT_NU_Branding_BR_2</td>\n",
       "      <td>92833</td>\n",
       "      <td>1434</td>\n",
       "      <td>5</td>\n",
       "    </tr>\n",
       "    <tr>\n",
       "      <th>1</th>\n",
       "      <td>2022-10-13</td>\n",
       "      <td>카카오</td>\n",
       "      <td>BR</td>\n",
       "      <td>1</td>\n",
       "      <td>DMKT_RT_biz_BR_2</td>\n",
       "      <td>0</td>\n",
       "      <td>0</td>\n",
       "      <td>0</td>\n",
       "    </tr>\n",
       "    <tr>\n",
       "      <th>2</th>\n",
       "      <td>2022-10-13</td>\n",
       "      <td>몰로코</td>\n",
       "      <td>BR</td>\n",
       "      <td>1</td>\n",
       "      <td>BR_2</td>\n",
       "      <td>1488</td>\n",
       "      <td>8</td>\n",
       "      <td>0</td>\n",
       "    </tr>\n",
       "    <tr>\n",
       "      <th>3</th>\n",
       "      <td>2022-10-13</td>\n",
       "      <td>몰로코</td>\n",
       "      <td>BR</td>\n",
       "      <td>1</td>\n",
       "      <td>BR_2</td>\n",
       "      <td>136</td>\n",
       "      <td>1</td>\n",
       "      <td>0</td>\n",
       "    </tr>\n",
       "    <tr>\n",
       "      <th>4</th>\n",
       "      <td>2022-10-13</td>\n",
       "      <td>몰로코</td>\n",
       "      <td>BR</td>\n",
       "      <td>1</td>\n",
       "      <td>BR_2</td>\n",
       "      <td>21876</td>\n",
       "      <td>183</td>\n",
       "      <td>11</td>\n",
       "    </tr>\n",
       "  </tbody>\n",
       "</table>\n",
       "</div>"
      ],
      "text/plain": [
       "          날짜   매체  그룹  소재 구분                    소재명     노출    클릭  앱 설치\n",
       "0 2022-10-13  카카오  BR      1  DMKT_NU_Branding_BR_2  92833  1434     5\n",
       "1 2022-10-13  카카오  BR      1       DMKT_RT_biz_BR_2      0     0     0\n",
       "2 2022-10-13  몰로코  BR      1                   BR_2   1488     8     0\n",
       "3 2022-10-13  몰로코  BR      1                   BR_2    136     1     0\n",
       "4 2022-10-13  몰로코  BR      1                   BR_2  21876   183    11"
      ]
     },
     "metadata": {},
     "output_type": "display_data"
    }
   ],
   "source": [
    "df = pd.read_excel('AB 테스트.xlsx', sheet_name = '모델 유무', header = 1, usecols = [i for i in range(1,9)])\n",
    "display(df.info(), df.head())"
   ]
  },
  {
   "cell_type": "markdown",
   "id": "e8a2963a",
   "metadata": {},
   "source": [
    "매체에서 받은 Raw 데이터를 매체, 소재 그룹, 소재 구분(모델 유무), 지표 등으로 전처리하여   "
   ]
  },
  {
   "cell_type": "code",
   "execution_count": 12,
   "id": "4378555d",
   "metadata": {},
   "outputs": [],
   "source": [
    "df1 = df.groupby(['날짜', '소재명'])[['노출', '클릭', '앱 설치']].sum()\n",
    "df1.reset_index(level = ['날짜', '소재명'], inplace = True)\n",
    "sep = df.groupby(['날짜', '소재명'])['소재 구분'].unique().to_frame().reset_index()\n",
    "sep['소재 구분'] = sep['소재 구분'].apply(lambda x: 1 if x==[1] else 0)"
   ]
  },
  {
   "cell_type": "code",
   "execution_count": 11,
   "id": "19927238",
   "metadata": {},
   "outputs": [
    {
     "data": {
      "text/html": [
       "<div>\n",
       "<style scoped>\n",
       "    .dataframe tbody tr th:only-of-type {\n",
       "        vertical-align: middle;\n",
       "    }\n",
       "\n",
       "    .dataframe tbody tr th {\n",
       "        vertical-align: top;\n",
       "    }\n",
       "\n",
       "    .dataframe thead th {\n",
       "        text-align: right;\n",
       "    }\n",
       "</style>\n",
       "<table border=\"1\" class=\"dataframe\">\n",
       "  <thead>\n",
       "    <tr style=\"text-align: right;\">\n",
       "      <th></th>\n",
       "      <th>날짜</th>\n",
       "      <th>소재명</th>\n",
       "      <th>소재 구분</th>\n",
       "    </tr>\n",
       "  </thead>\n",
       "  <tbody>\n",
       "    <tr>\n",
       "      <th>0</th>\n",
       "      <td>2022-10-13</td>\n",
       "      <td>BR_1</td>\n",
       "      <td>[1]</td>\n",
       "    </tr>\n",
       "    <tr>\n",
       "      <th>1</th>\n",
       "      <td>2022-10-13</td>\n",
       "      <td>BR_2</td>\n",
       "      <td>[1]</td>\n",
       "    </tr>\n",
       "    <tr>\n",
       "      <th>2</th>\n",
       "      <td>2022-10-13</td>\n",
       "      <td>DMKT_NU_Branding_BR_2</td>\n",
       "      <td>[1]</td>\n",
       "    </tr>\n",
       "    <tr>\n",
       "      <th>3</th>\n",
       "      <td>2022-10-13</td>\n",
       "      <td>DMKT_RT_biz_BR_2</td>\n",
       "      <td>[1]</td>\n",
       "    </tr>\n",
       "    <tr>\n",
       "      <th>4</th>\n",
       "      <td>2022-10-13</td>\n",
       "      <td>IS_1</td>\n",
       "      <td>[1]</td>\n",
       "    </tr>\n",
       "    <tr>\n",
       "      <th>...</th>\n",
       "      <td>...</td>\n",
       "      <td>...</td>\n",
       "      <td>...</td>\n",
       "    </tr>\n",
       "    <tr>\n",
       "      <th>278</th>\n",
       "      <td>2022-12-31</td>\n",
       "      <td>BR_1</td>\n",
       "      <td>[1]</td>\n",
       "    </tr>\n",
       "    <tr>\n",
       "      <th>279</th>\n",
       "      <td>2022-12-31</td>\n",
       "      <td>BR_1_RE</td>\n",
       "      <td>[0]</td>\n",
       "    </tr>\n",
       "    <tr>\n",
       "      <th>280</th>\n",
       "      <td>2022-12-31</td>\n",
       "      <td>BR_2</td>\n",
       "      <td>[1]</td>\n",
       "    </tr>\n",
       "    <tr>\n",
       "      <th>281</th>\n",
       "      <td>2022-12-31</td>\n",
       "      <td>BR_2_RE</td>\n",
       "      <td>[0]</td>\n",
       "    </tr>\n",
       "    <tr>\n",
       "      <th>282</th>\n",
       "      <td>2022-12-31</td>\n",
       "      <td>IS_1_RE</td>\n",
       "      <td>[0]</td>\n",
       "    </tr>\n",
       "  </tbody>\n",
       "</table>\n",
       "<p>283 rows × 3 columns</p>\n",
       "</div>"
      ],
      "text/plain": [
       "            날짜                    소재명 소재 구분\n",
       "0   2022-10-13                   BR_1   [1]\n",
       "1   2022-10-13                   BR_2   [1]\n",
       "2   2022-10-13  DMKT_NU_Branding_BR_2   [1]\n",
       "3   2022-10-13       DMKT_RT_biz_BR_2   [1]\n",
       "4   2022-10-13                   IS_1   [1]\n",
       "..         ...                    ...   ...\n",
       "278 2022-12-31                   BR_1   [1]\n",
       "279 2022-12-31                BR_1_RE   [0]\n",
       "280 2022-12-31                   BR_2   [1]\n",
       "281 2022-12-31                BR_2_RE   [0]\n",
       "282 2022-12-31                IS_1_RE   [0]\n",
       "\n",
       "[283 rows x 3 columns]"
      ]
     },
     "execution_count": 11,
     "metadata": {},
     "output_type": "execute_result"
    }
   ],
   "source": [
    "sep = df.groupby(['날짜', '소재명'])['소재 구분'].unique().to_frame().reset_index()\n",
    "sep"
   ]
  },
  {
   "cell_type": "code",
   "execution_count": 10,
   "id": "5aea6252",
   "metadata": {},
   "outputs": [],
   "source": [
    "df1"
   ]
  },
  {
   "cell_type": "code",
   "execution_count": 259,
   "id": "79e7cfe3",
   "metadata": {},
   "outputs": [],
   "source": [
    "df1['클릭률'] = round(df1['클릭']/df1['노출'],4).replace([np.nan, np.inf], 0)\n",
    "df1['전환율'] = round(df1['앱 설치']/df1['클릭'],4).replace([np.nan, np.inf], 0)"
   ]
  },
  {
   "cell_type": "code",
   "execution_count": 260,
   "id": "668eeb97",
   "metadata": {},
   "outputs": [
    {
     "data": {
      "text/html": [
       "<div>\n",
       "<style scoped>\n",
       "    .dataframe tbody tr th:only-of-type {\n",
       "        vertical-align: middle;\n",
       "    }\n",
       "\n",
       "    .dataframe tbody tr th {\n",
       "        vertical-align: top;\n",
       "    }\n",
       "\n",
       "    .dataframe thead th {\n",
       "        text-align: right;\n",
       "    }\n",
       "</style>\n",
       "<table border=\"1\" class=\"dataframe\">\n",
       "  <thead>\n",
       "    <tr style=\"text-align: right;\">\n",
       "      <th></th>\n",
       "      <th>날짜</th>\n",
       "      <th>소재명</th>\n",
       "      <th>노출</th>\n",
       "      <th>클릭</th>\n",
       "      <th>앱 설치</th>\n",
       "      <th>클릭률</th>\n",
       "      <th>전환율</th>\n",
       "      <th>소재 구분</th>\n",
       "    </tr>\n",
       "  </thead>\n",
       "  <tbody>\n",
       "    <tr>\n",
       "      <th>0</th>\n",
       "      <td>2022-10-13</td>\n",
       "      <td>BR_1</td>\n",
       "      <td>0</td>\n",
       "      <td>0</td>\n",
       "      <td>0</td>\n",
       "      <td>0.0000</td>\n",
       "      <td>0.0000</td>\n",
       "      <td>1</td>\n",
       "    </tr>\n",
       "    <tr>\n",
       "      <th>1</th>\n",
       "      <td>2022-10-13</td>\n",
       "      <td>BR_2</td>\n",
       "      <td>72838</td>\n",
       "      <td>1263</td>\n",
       "      <td>52</td>\n",
       "      <td>0.0173</td>\n",
       "      <td>0.0412</td>\n",
       "      <td>1</td>\n",
       "    </tr>\n",
       "    <tr>\n",
       "      <th>2</th>\n",
       "      <td>2022-10-13</td>\n",
       "      <td>DMKT_NU_Branding_BR_2</td>\n",
       "      <td>92833</td>\n",
       "      <td>1434</td>\n",
       "      <td>5</td>\n",
       "      <td>0.0154</td>\n",
       "      <td>0.0035</td>\n",
       "      <td>1</td>\n",
       "    </tr>\n",
       "    <tr>\n",
       "      <th>3</th>\n",
       "      <td>2022-10-13</td>\n",
       "      <td>DMKT_RT_biz_BR_2</td>\n",
       "      <td>0</td>\n",
       "      <td>0</td>\n",
       "      <td>0</td>\n",
       "      <td>0.0000</td>\n",
       "      <td>0.0000</td>\n",
       "      <td>1</td>\n",
       "    </tr>\n",
       "    <tr>\n",
       "      <th>4</th>\n",
       "      <td>2022-10-13</td>\n",
       "      <td>IS_1</td>\n",
       "      <td>0</td>\n",
       "      <td>0</td>\n",
       "      <td>0</td>\n",
       "      <td>0.0000</td>\n",
       "      <td>0.0000</td>\n",
       "      <td>1</td>\n",
       "    </tr>\n",
       "  </tbody>\n",
       "</table>\n",
       "</div>"
      ],
      "text/plain": [
       "          날짜                    소재명     노출    클릭  앱 설치     클릭률     전환율  소재 구분\n",
       "0 2022-10-13                   BR_1      0     0     0  0.0000  0.0000      1\n",
       "1 2022-10-13                   BR_2  72838  1263    52  0.0173  0.0412      1\n",
       "2 2022-10-13  DMKT_NU_Branding_BR_2  92833  1434     5  0.0154  0.0035      1\n",
       "3 2022-10-13       DMKT_RT_biz_BR_2      0     0     0  0.0000  0.0000      1\n",
       "4 2022-10-13                   IS_1      0     0     0  0.0000  0.0000      1"
      ]
     },
     "execution_count": 260,
     "metadata": {},
     "output_type": "execute_result"
    }
   ],
   "source": [
    "test_df = pd.merge(df1, sep)\n",
    "test_df.head()"
   ]
  },
  {
   "cell_type": "code",
   "execution_count": 263,
   "id": "5c5c96ba",
   "metadata": {},
   "outputs": [],
   "source": [
    "click_1 = test_df[test_df['소재 구분']==1]['클릭률'].to_list()\n",
    "click_0 = test_df[test_df['소재 구분']==0]['클릭률'].to_list()\n",
    "conv_1 = test_df[test_df['소재 구분']==1]['전환율'].to_list()\n",
    "conv_0 = test_df[test_df['소재 구분']==0]['전환율'].to_list()"
   ]
  },
  {
   "cell_type": "code",
   "execution_count": 264,
   "id": "f5e2d772",
   "metadata": {
    "scrolled": false
   },
   "outputs": [
    {
     "data": {
      "image/png": "[encoded data removed]",
      "text/plain": [
       "<Figure size 1000x700 with 2 Axes>"
      ]
     },
     "metadata": {},
     "output_type": "display_data"
    }
   ],
   "source": [
    "fig = plt.figure(figsize=(10,7))\n",
    "\n",
    "plt.subplot(2,1,1)\n",
    "sns.kdeplot(click_1, color='midnightblue', shade=True, label='모델')\n",
    "sns.kdeplot(click_0, color='blue', shade=True, label='Non 모델')\n",
    "plt.title('클릭률 A/B 분포도') \n",
    "plt.legend()\n",
    "\n",
    "plt.subplot(2,1,2)\n",
    "sns.kdeplot(conv_1, color='deeppink', shade=True, label='모델')\n",
    "sns.kdeplot(conv_0, color='red', shade=True, label='Non 모델')\n",
    "plt.title('전환율 A/B 분포도')\n",
    "plt.legend()\n",
    "\n",
    "plt.tight_layout()"
   ]
  },
  {
   "cell_type": "code",
   "execution_count": 265,
   "id": "f7724a83",
   "metadata": {
    "scrolled": false
   },
   "outputs": [
    {
     "name": "stdout",
     "output_type": "stream",
     "text": [
      "ShapiroResult(statistic=0.38119059801101685, pvalue=3.262657011251925e-28)\n",
      "ShapiroResult(statistic=0.4904276728630066, pvalue=4.9708775984314e-10)\n"
     ]
    }
   ],
   "source": [
    "import scipy.stats as stats\n",
    "from scipy.stats import shapiro\n",
    "\n",
    "print(shapiro(click_1)) # 데이터 정규성 검정\n",
    "print(shapiro(click_0)) "
   ]
  },
  {
   "cell_type": "code",
   "execution_count": 266,
   "id": "cfe92570",
   "metadata": {},
   "outputs": [
    {
     "name": "stdout",
     "output_type": "stream",
     "text": [
      "모델 사용 : 247 \n",
      "모델 미사용 : 36\n"
     ]
    }
   ],
   "source": [
    "print('모델 사용 :',len(test_df[test_df['소재 구분']==1]), \n",
    "      '\\n모델 미사용 :',len(test_df[test_df['소재 구분']==0]))"
   ]
  },
  {
   "cell_type": "code",
   "execution_count": 268,
   "id": "a9957383",
   "metadata": {},
   "outputs": [],
   "source": [
    "from sklearn.utils import resample\n",
    "\n",
    "sampled_click_0 = resample(click_0, replace=True, n_samples=len(click_1))\n",
    "sampled_conv_0 = resample(conv_0, replace=True, n_samples=len(conv_1))"
   ]
  },
  {
   "cell_type": "code",
   "execution_count": 269,
   "id": "241bcec9",
   "metadata": {},
   "outputs": [
    {
     "data": {
      "text/plain": [
       "<matplotlib.legend.Legend at 0x20222b2d850>"
      ]
     },
     "execution_count": 269,
     "metadata": {},
     "output_type": "execute_result"
    },
    {
     "data": {
      "image/png": "[encoded data removed]",
      "text/plain": [
       "<Figure size 640x480 with 1 Axes>"
      ]
     },
     "metadata": {},
     "output_type": "display_data"
    }
   ],
   "source": [
    "plt.subplot(2,1,1)\n",
    "sns.kdeplot(click_1, color='midnightblue', shade=True, label='모델')\n",
    "sns.kdeplot(sampled_click_0, color='blue', shade=True, label='Non 모델')\n",
    "plt.title('클릭률 A/B 분포도') \n",
    "plt.legend()"
   ]
  },
  {
   "cell_type": "code",
   "execution_count": 316,
   "id": "a350f633",
   "metadata": {
    "scrolled": false
   },
   "outputs": [
    {
     "data": {
      "text/plain": [
       "Text(0.5, 1.0, '모델 미사용')"
      ]
     },
     "execution_count": 316,
     "metadata": {},
     "output_type": "execute_result"
    },
    {
     "data": {
      "image/png": "[encoded data removed]",
      "text/plain": [
       "<Figure size 1000x500 with 2 Axes>"
      ]
     },
     "metadata": {},
     "output_type": "display_data"
    }
   ],
   "source": [
    "fig, ax = plt.subplots(1, 2, figsize=(10,5))\n",
    "ax[0].boxplot(click_1)\n",
    "ax[0].set_title('모델 사용')\n",
    "ax[0].set_ylabel('클릭률', rotation=0)\n",
    "ax[1].boxplot(sampled_click_0)\n",
    "ax[1].set_title('모델 미사용') "
   ]
  },
  {
   "cell_type": "code",
   "execution_count": 271,
   "id": "e7927bee",
   "metadata": {},
   "outputs": [
    {
     "name": "stdout",
     "output_type": "stream",
     "text": [
      "양측 검정 결과 : WilcoxonResult(statistic=8053.0, pvalue=6.732435568490381e-10)\n",
      "단측 검정 결과 : WilcoxonResult(statistic=8053.0, pvalue=3.3662177842451907e-10)\n"
     ]
    }
   ],
   "source": [
    "AB_Test = stats.wilcoxon(click_1, sampled_click_0, alternative = 'two-sided')\n",
    "print(f'양측 검정 결과 : {AB_Test}')\n",
    "\n",
    "one_AB_Test = stats.wilcoxon(click_1, sampled_click_0, alternative = 'less')\n",
    "print(f'단측 검정 결과 : {one_AB_Test}')"
   ]
  },
  {
   "cell_type": "code",
   "execution_count": 272,
   "id": "0c7b3fe1",
   "metadata": {},
   "outputs": [
    {
     "name": "stdout",
     "output_type": "stream",
     "text": [
      "ShapiroResult(statistic=0.6078830361366272, pvalue=2.282102654689831e-23)\n",
      "ShapiroResult(statistic=0.5373982191085815, pvalue=1.7300828547561764e-09)\n"
     ]
    }
   ],
   "source": [
    "print(shapiro(conv_1)) # 데이터 정규성 검정\n",
    "print(shapiro(conv_0)) "
   ]
  },
  {
   "cell_type": "code",
   "execution_count": 273,
   "id": "55c74890",
   "metadata": {},
   "outputs": [
    {
     "data": {
      "text/plain": [
       "Text(0.5, 1.0, '모델 미사용')"
      ]
     },
     "execution_count": 273,
     "metadata": {},
     "output_type": "execute_result"
    },
    {
     "data": {
      "image/png": "[encoded data removed]",
      "text/plain": [
       "<Figure size 1200x500 with 2 Axes>"
      ]
     },
     "metadata": {},
     "output_type": "display_data"
    }
   ],
   "source": [
    "fig, ax = plt.subplots(1, 2, figsize=(12,5))\n",
    "ax[0].boxplot(conv_1)\n",
    "ax[0].set_title('모델 사용')\n",
    "ax[0].set_ylabel('전환율', rotation=0)\n",
    "ax[1].boxplot(sampled_conv_0)\n",
    "ax[1].set_title('모델 미사용') "
   ]
  },
  {
   "cell_type": "code",
   "execution_count": 274,
   "id": "73b35ca9",
   "metadata": {},
   "outputs": [
    {
     "name": "stdout",
     "output_type": "stream",
     "text": [
      "0.22229757085020244 0.08424129554655871\n"
     ]
    }
   ],
   "source": [
    "print(np.mean(conv_1), np.mean(sampled_conv_0))"
   ]
  },
  {
   "cell_type": "code",
   "execution_count": 315,
   "id": "5cc3ee92",
   "metadata": {
    "scrolled": false
   },
   "outputs": [
    {
     "name": "stdout",
     "output_type": "stream",
     "text": [
      "양측 검정 결과 : WilcoxonResult(statistic=9783.0, pvalue=8.619267255612093e-07)\n",
      "단측 검정 결과 : WilcoxonResult(statistic=9783.0, pvalue=4.3096336278060466e-07)\n"
     ]
    }
   ],
   "source": [
    "AB_Test = stats.wilcoxon(conv_1, sampled_conv_0, alternative = 'two-sided')\n",
    "print(f'양측 검정 결과 : {AB_Test}')\n",
    "\n",
    "one_ab_test = stats.wilcoxon(sampled_conv_0, conv_1, alternative = 'less')\n",
    "print(f'단측 검정 결과 : {one_AB_Test}')"
   ]
  },
  {
   "cell_type": "code",
   "execution_count": 311,
   "id": "4eb77500",
   "metadata": {},
   "outputs": [],
   "source": [
    "def ab_test(a,b):\n",
    "    two_s_test = stats.wilcoxon(a, b, alternative = 'two-sided')\n",
    "    if two_s_test[1] <= 0.05:\n",
    "        one_s_test = stats.wilcoxon(a, b, alternative = 'greater')\n",
    "        result = '모델을 사용한 소재와 미사용한 소재의 성과에 차이가 있음'\n",
    "        direction = '모델을 사용한 소재가 모델을 미사용한 소재보다 성과가 뛰어남'\n",
    "    else:\n",
    "        pass\n",
    "    \n",
    "    if one_s_test[1] >= 0.05:\n",
    "        one_s_test = stats.wilcoxon(a,b, alternative = 'less')\n",
    "        direction = '모델을 사용한 소재가 모델을 미사용한 소재보다 성과가 저조함'\n",
    "    else:\n",
    "        pass\n",
    "    \n",
    "    print('양측 검정 결과 :', two_s_test, f'\\n▷ {result}')\n",
    "    print('단측 검정 결과 :', one_s_test, f'\\n▷ {direction}')"
   ]
  },
  {
   "cell_type": "code",
   "execution_count": 313,
   "id": "00d3d469",
   "metadata": {},
   "outputs": [
    {
     "name": "stdout",
     "output_type": "stream",
     "text": [
      "양측 검정 결과 : WilcoxonResult(statistic=8053.0, pvalue=6.732435568490381e-10) \n",
      "▷ 모델을 사용한 소재와 미사용한 소재의 성과에 차이가 있음\n",
      "단측 검정 결과 : WilcoxonResult(statistic=8053.0, pvalue=3.3662177842451907e-10) \n",
      "▷ 모델을 사용한 소재가 모델을 미사용한 소재보다 성과가 저조함\n"
     ]
    }
   ],
   "source": [
    "ab_test(click_1, sampled_click_0)"
   ]
  },
  {
   "cell_type": "code",
   "execution_count": 314,
   "id": "ee7b2ffa",
   "metadata": {},
   "outputs": [
    {
     "name": "stdout",
     "output_type": "stream",
     "text": [
      "양측 검정 결과 : WilcoxonResult(statistic=9783.0, pvalue=8.619267255612093e-07) \n",
      "▷ 모델을 사용한 소재와 미사용한 소재의 성과에 차이가 있음\n",
      "단측 검정 결과 : WilcoxonResult(statistic=20845.0, pvalue=4.3096336278060466e-07) \n",
      "▷ 모델을 사용한 소재가 모델을 미사용한 소재보다 성과가 뛰어남\n"
     ]
    }
   ],
   "source": [
    "ab_test(conv_1, sampled_conv_0)"
   ]
  }
 ],
 "metadata": {
  "kernelspec": {
   "display_name": "Python 3 (ipykernel)",
   "language": "python",
   "name": "python3"
  },
  "language_info": {
   "codemirror_mode": {
    "name": "ipython",
    "version": 3
   },
   "file_extension": ".py",
   "mimetype": "text/x-python",
   "name": "python",
   "nbconvert_exporter": "python",
   "pygments_lexer": "ipython3",
   "version": "3.8.5"
  }
 },
 "nbformat": 4,
 "nbformat_minor": 5
}
